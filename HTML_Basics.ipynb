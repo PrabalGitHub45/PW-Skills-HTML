{
  "nbformat": 4,
  "nbformat_minor": 0,
  "metadata": {
    "colab": {
      "provenance": []
    },
    "kernelspec": {
      "name": "python3",
      "display_name": "Python 3"
    },
    "language_info": {
      "name": "python"
    }
  },
  "cells": [
    {
      "cell_type": "markdown",
      "source": [
        "**HTML Basics | Assignment**\n",
        "\n",
        "\n"
      ],
      "metadata": {
        "id": "Ask7bwTbV2xY"
      }
    },
    {
      "cell_type": "markdown",
      "source": [
        "**Question 1** : Explain the basic structure of an HTML page. Why\n",
        "is it important to follow this structure?\n",
        "\n",
        "- **Answer:**\n",
        "\n",
        "- The basic structure of an HTML page includes the following elements:\n",
        "```<!DOCTYPE html>\n",
        "<html>\n",
        "  <head>\n",
        "    <title>Page Title</title>\n",
        "  </head>\n",
        "  <body>\n",
        "  </body>\n",
        "</html>\n",
        "```\n",
        "- **Explanation:**\n",
        "```\n",
        "<!DOCTYPE html>: This basically declares the HTML version.\n",
        "<html>: This is the root of the HTML document.\n",
        "<head>: It contains metadata like title, CSS, etc.\n",
        "<title>: This is the title that is showen in browser tab.\n",
        "<body>: This is the body of HTML inside where we write code.\n",
        "```\n",
        "\n",
        "- **Importance:**\n",
        "Following the basic structure of an HTML page is important because it helps the browser understand how to properly display the content. When the structure is correct, the webpage looks and works the same across different devices and browsers. It also makes the code easier to read and manage, especially when working in a team. A proper structure also helps search engines read the page better, which can improve its visibility online. Overall, using the correct structure is a good habit that makes web development more organized and efficient.\n"
      ],
      "metadata": {
        "id": "ehpXZy-0Wzd9"
      }
    },
    {
      "cell_type": "markdown",
      "source": [
        "**Question 2:** You’re building a small personal profile page. Which HTML tags will you use to highlight your name as a heading, describe yourself in a paragraph, and emphasize a key skill?\n",
        "\n",
        "- **Answer:**\n",
        "\n",
        "```\n",
        "-  If I’m building a small personal profile page,\n",
        "I would use the <h1> tag to highlight my name as the main heading.\n",
        "To describe myself, I’d use the <p> tag. If I want to emphasize a key skill,\n",
        "I’d use the <strong> tag to make it stand out,\n",
        "as it gives importance to that part of the text.\n",
        "```\n",
        "\n",
        "- **Example:**\n",
        "```\n",
        "<h1>Prabal Adhikari</h1>\n",
        "<p>I am a passionate computer science student\n",
        "who enjoys solving problems and learning new technologies.</p>\n",
        "<p>My key skill is <strong>Java programming</strong>,\n",
        "which I use to build efficient solutions.</p>\n",
        "```"
      ],
      "metadata": {
        "id": "yBP5Ynpaa99R"
      }
    },
    {
      "cell_type": "markdown",
      "source": [
        "**Question 3**: Look at the code below. Can you find and fix the mistake?\n",
        "\n",
        "&lt;!-- This is an HTML comment  \n",
        "&lt;h1&gt;Welcome to my website&lt;/h1&gt;\n",
        "\n",
        "- **Answer:**\n",
        "Yes, there have a mistake is that the HTML comment is not properly closed. An HTML comment should start with <!-- and end with - ->. In the given code, the comment is missing the closing.\n",
        "Corrected Code is that:\n",
        "```\n",
        "<!-- This is an HTML comment -->\n",
        "<h1>Welcome to my website</h1>\n",
        "\n"
      ],
      "metadata": {
        "id": "J6aPpRIMKcsY"
      }
    },
    {
      "cell_type": "markdown",
      "source": [
        "**Question 4:** You’re creating a form that asks the user to enter their name, select their country from a list, and click a button to submit. Write the HTML code for this.\n",
        "\n",
        "- **Answer**\n",
        "This is the code below:-\n",
        "```\n",
        "<!DOCTYPE html>\n",
        "<head>\n",
        "  <title>User Form</title>\n",
        "</head>\n",
        "<body>\n",
        "  <form>\n",
        "    <label for=\"name\">Name:</label>\n",
        "  <input type=\"text\" id=\"name\" name=\"name\"><br><br>\n",
        "  <label for=\"country\">Country:</label>\n",
        "  <select id=\"country\" name=\"country\">\n",
        "    <option value=\"india\">India</option>\n",
        "    <option value=\"usa\">USA</option>\n",
        "    <option value=\"uk\">UK</option>\n",
        "  </select><br><br>\n",
        "  <button type=\"submit\">Submit</button>\n",
        "</form>\n",
        "</body>\n",
        "</html>\n",
        "\n"
      ],
      "metadata": {
        "id": "Zg-MJQzVLu2D"
      }
    },
    {
      "cell_type": "markdown",
      "source": [
        "**Question 5:** Write short HTML code to show your favorite fruits in a bulleted list and your top 3 programming languages in a numbered list.\n",
        "\n",
        "- **Answer:** This is the HTML code\n",
        "```\n",
        "<!DOCTYPE html>\n",
        "<head>\n",
        "  <title>List</title>\n",
        "</head>\n",
        "<body>\n",
        "  <h3>My Favorite Fruits</h3>\n",
        "  <ul>\n",
        "  <li>Mango</li>\n",
        "  <li>Litchi</li>\n",
        "  <li>Apple</li>\n",
        "</ul>\n",
        "<h3>My top 3 Programming Languages</h3>\n",
        "<ol>\n",
        "  <li>Java</li>\n",
        "  <li>Javascript</li>\n",
        "  <li>Python</li>\n",
        "</ol>\n",
        "</body>\n",
        "</html>\n",
        "\n"
      ],
      "metadata": {
        "id": "PA-vaoyFMNv4"
      }
    },
    {
      "cell_type": "markdown",
      "source": [
        "**Question 6:** Ravi wants to leave a note in his HTML file so that only other developers can see it, not the users on the website. How should he do this? Why are such notes useful?\n",
        "- **Answer:**\n",
        "Ravi can leave a note in his HTML file using an HTML comment. The correct way to write a comment is:\n",
        "&lt;!-- This is a comment for note -->\n",
        "\n",
        "- Such notes are helpful for developers to understand the code, leave reminders, or explain complex parts. They don’t appear on the website, so users does not see them. This practices makes teamwork and future updates easier.\n"
      ],
      "metadata": {
        "id": "hlcvtfXvMk3s"
      }
    },
    {
      "cell_type": "markdown",
      "source": [
        "**Question 7:** Here’s a form snippet. Can you spot the error and rewrite the correct version?\n",
        "```\n",
        "<form>\n",
        "<input name=\"email\">\n",
        "<select>\n",
        "<option>India</option>\n",
        "</select>\n",
        "<button>Send</buton>\n",
        "</form>\n",
        "```\n",
        "- **Answer:**\n",
        "Yes, there is a error in the &lt;button&gt; tag. Basically the closing tag is written as &lt;/buton&gt; instead of &lt;/button&gt;.\n",
        "\n",
        "\n",
        "- Corrected HTML:\n",
        "```\n",
        "<form>\n",
        "  <input name=\"email\">\n",
        "  <select>\n",
        "    <option>India</option>\n",
        "  </select>\n",
        "  <button>Send</button>\n",
        "</form>\n"
      ],
      "metadata": {
        "id": "u8HtAPclNmRL"
      }
    }
  ]
}
